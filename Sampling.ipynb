{
 "cells": [
  {
   "cell_type": "markdown",
   "id": "generic-interview",
   "metadata": {},
   "source": [
    "Descripció\n",
    "\n",
    "Aprèn a realitzar mostreig de les dades amb Python.\n",
    "\n",
    "\n",
    "- Exercici 1\n",
    "\n",
    "Agafa un conjunt de dades de tema esportiu que t'agradi. Realitza un mostreig de les dades generant una mostra aleatòria simple i una mostra sistemàtica."
   ]
  },
  {
   "cell_type": "code",
   "execution_count": 1,
   "id": "artificial-thirty",
   "metadata": {},
   "outputs": [],
   "source": [
    "import pandas as pd\n",
    "import random\n",
    "import matplotlib.pyplot as plt\n",
    "import numpy as np\n",
    "import seaborn as sns\n"
   ]
  },
  {
   "cell_type": "code",
   "execution_count": 2,
   "id": "dangerous-electricity",
   "metadata": {},
   "outputs": [],
   "source": [
    "df=pd.read_csv('MLB.txt',sep='\\t')"
   ]
  },
  {
   "cell_type": "code",
   "execution_count": 5,
   "id": "aquatic-roulette",
   "metadata": {},
   "outputs": [
    {
     "data": {
      "text/html": [
       "<div>\n",
       "<style scoped>\n",
       "    .dataframe tbody tr th:only-of-type {\n",
       "        vertical-align: middle;\n",
       "    }\n",
       "\n",
       "    .dataframe tbody tr th {\n",
       "        vertical-align: top;\n",
       "    }\n",
       "\n",
       "    .dataframe thead th {\n",
       "        text-align: right;\n",
       "    }\n",
       "</style>\n",
       "<table border=\"1\" class=\"dataframe\">\n",
       "  <thead>\n",
       "    <tr style=\"text-align: right;\">\n",
       "      <th></th>\n",
       "      <th>player</th>\n",
       "      <th>team</th>\n",
       "      <th>position</th>\n",
       "      <th>salary</th>\n",
       "    </tr>\n",
       "  </thead>\n",
       "  <tbody>\n",
       "    <tr>\n",
       "      <th>0</th>\n",
       "      <td>Brandon Webb</td>\n",
       "      <td>Arizona Diamondbacks</td>\n",
       "      <td>Pitcher</td>\n",
       "      <td>8500.0</td>\n",
       "    </tr>\n",
       "    <tr>\n",
       "      <th>1</th>\n",
       "      <td>Danny Haren</td>\n",
       "      <td>Arizona Diamondbacks</td>\n",
       "      <td>Pitcher</td>\n",
       "      <td>8250.0</td>\n",
       "    </tr>\n",
       "    <tr>\n",
       "      <th>2</th>\n",
       "      <td>Chris Snyder</td>\n",
       "      <td>Arizona Diamondbacks</td>\n",
       "      <td>Catcher</td>\n",
       "      <td>5250.0</td>\n",
       "    </tr>\n",
       "    <tr>\n",
       "      <th>3</th>\n",
       "      <td>Edwin Jackson</td>\n",
       "      <td>Arizona Diamondbacks</td>\n",
       "      <td>Pitcher</td>\n",
       "      <td>4600.0</td>\n",
       "    </tr>\n",
       "    <tr>\n",
       "      <th>4</th>\n",
       "      <td>Adam LaRoche</td>\n",
       "      <td>Arizona Diamondbacks</td>\n",
       "      <td>First Baseman</td>\n",
       "      <td>4500.0</td>\n",
       "    </tr>\n",
       "  </tbody>\n",
       "</table>\n",
       "</div>"
      ],
      "text/plain": [
       "          player                  team       position  salary\n",
       "0   Brandon Webb  Arizona Diamondbacks        Pitcher  8500.0\n",
       "1    Danny Haren  Arizona Diamondbacks        Pitcher  8250.0\n",
       "2   Chris Snyder  Arizona Diamondbacks        Catcher  5250.0\n",
       "3  Edwin Jackson  Arizona Diamondbacks        Pitcher  4600.0\n",
       "4   Adam LaRoche  Arizona Diamondbacks  First Baseman  4500.0"
      ]
     },
     "execution_count": 5,
     "metadata": {},
     "output_type": "execute_result"
    }
   ],
   "source": [
    "df.head()"
   ]
  },
  {
   "cell_type": "code",
   "execution_count": 6,
   "id": "herbal-karaoke",
   "metadata": {},
   "outputs": [
    {
     "data": {
      "text/html": [
       "<div>\n",
       "<style scoped>\n",
       "    .dataframe tbody tr th:only-of-type {\n",
       "        vertical-align: middle;\n",
       "    }\n",
       "\n",
       "    .dataframe tbody tr th {\n",
       "        vertical-align: top;\n",
       "    }\n",
       "\n",
       "    .dataframe thead th {\n",
       "        text-align: right;\n",
       "    }\n",
       "</style>\n",
       "<table border=\"1\" class=\"dataframe\">\n",
       "  <thead>\n",
       "    <tr style=\"text-align: right;\">\n",
       "      <th></th>\n",
       "      <th>salary</th>\n",
       "    </tr>\n",
       "  </thead>\n",
       "  <tbody>\n",
       "    <tr>\n",
       "      <th>count</th>\n",
       "      <td>828.000000</td>\n",
       "    </tr>\n",
       "    <tr>\n",
       "      <th>mean</th>\n",
       "      <td>3281.828339</td>\n",
       "    </tr>\n",
       "    <tr>\n",
       "      <th>std</th>\n",
       "      <td>4465.448980</td>\n",
       "    </tr>\n",
       "    <tr>\n",
       "      <th>min</th>\n",
       "      <td>400.000000</td>\n",
       "    </tr>\n",
       "    <tr>\n",
       "      <th>25%</th>\n",
       "      <td>418.315000</td>\n",
       "    </tr>\n",
       "    <tr>\n",
       "      <th>50%</th>\n",
       "      <td>1093.750000</td>\n",
       "    </tr>\n",
       "    <tr>\n",
       "      <th>75%</th>\n",
       "      <td>4250.000000</td>\n",
       "    </tr>\n",
       "    <tr>\n",
       "      <th>max</th>\n",
       "      <td>33000.000000</td>\n",
       "    </tr>\n",
       "  </tbody>\n",
       "</table>\n",
       "</div>"
      ],
      "text/plain": [
       "             salary\n",
       "count    828.000000\n",
       "mean    3281.828339\n",
       "std     4465.448980\n",
       "min      400.000000\n",
       "25%      418.315000\n",
       "50%     1093.750000\n",
       "75%     4250.000000\n",
       "max    33000.000000"
      ]
     },
     "execution_count": 6,
     "metadata": {},
     "output_type": "execute_result"
    }
   ],
   "source": [
    "df.describe()"
   ]
  },
  {
   "cell_type": "code",
   "execution_count": 7,
   "id": "remarkable-grant",
   "metadata": {},
   "outputs": [
    {
     "name": "stdout",
     "output_type": "stream",
     "text": [
      "<class 'pandas.core.frame.DataFrame'>\n",
      "RangeIndex: 828 entries, 0 to 827\n",
      "Data columns (total 4 columns):\n",
      " #   Column    Non-Null Count  Dtype  \n",
      "---  ------    --------------  -----  \n",
      " 0   player    828 non-null    object \n",
      " 1   team      828 non-null    object \n",
      " 2   position  828 non-null    object \n",
      " 3   salary    828 non-null    float64\n",
      "dtypes: float64(1), object(3)\n",
      "memory usage: 26.0+ KB\n"
     ]
    }
   ],
   "source": [
    "df.info()"
   ]
  },
  {
   "cell_type": "code",
   "execution_count": 10,
   "id": "vocal-passenger",
   "metadata": {},
   "outputs": [
    {
     "data": {
      "text/plain": [
       "(828, 4)"
      ]
     },
     "execution_count": 10,
     "metadata": {},
     "output_type": "execute_result"
    }
   ],
   "source": [
    "df.shape"
   ]
  },
  {
   "cell_type": "markdown",
   "id": "pressed-escape",
   "metadata": {},
   "source": [
    "Random sample with 75 items"
   ]
  },
  {
   "cell_type": "code",
   "execution_count": 17,
   "id": "medieval-graduation",
   "metadata": {},
   "outputs": [],
   "source": [
    "radoms_sample=df.sample(n=75, random_state=1)"
   ]
  },
  {
   "cell_type": "code",
   "execution_count": 19,
   "id": "under-corrections",
   "metadata": {},
   "outputs": [
    {
     "data": {
      "text/plain": [
       "(75, 4)"
      ]
     },
     "execution_count": 19,
     "metadata": {},
     "output_type": "execute_result"
    }
   ],
   "source": [
    "radoms_sample.shape"
   ]
  },
  {
   "cell_type": "code",
   "execution_count": 71,
   "id": "impossible-found",
   "metadata": {},
   "outputs": [
    {
     "data": {
      "text/plain": [
       "Text(0.5, 0, 'SAMPLE - Salary (millions of dollars)')"
      ]
     },
     "execution_count": 71,
     "metadata": {},
     "output_type": "execute_result"
    },
    {
     "data": {
      "image/png": "[encoded data removed]",
      "text/plain": [
       "<Figure size 432x288 with 1 Axes>"
      ]
     },
     "metadata": {
      "needs_background": "light"
     },
     "output_type": "display_data"
    }
   ],
   "source": [
    "radoms_sample.hist(['salary'], bins=20)\n",
    "plt.title('SAMPLE - MLB players’ salaries - Random Sample k=75')\n",
    "plt.ylabel('Frequency')\n",
    "plt.xlabel('SAMPLE - Salary (millions of dollars)')"
   ]
  },
  {
   "cell_type": "code",
   "execution_count": 76,
   "id": "trained-typing",
   "metadata": {
    "scrolled": true
   },
   "outputs": [
    {
     "data": {
      "text/plain": [
       "Text(0.5, 0, 'POPULATION - Salary (millions of dollars)')"
      ]
     },
     "execution_count": 76,
     "metadata": {},
     "output_type": "execute_result"
    },
    {
     "data": {
      "image/png": "[encoded data removed]",
      "text/plain": [
       "<Figure size 432x288 with 1 Axes>"
      ]
     },
     "metadata": {},
     "output_type": "display_data"
    }
   ],
   "source": [
    "sns.set(style=\"whitegrid\")\n",
    "ax = sns.boxplot(x=radoms_sample[\"salary\"], color='lightblue', fliersize=5, linewidth=1 , width=0.3)\n",
    "ax = sns.stripplot(x=radoms_sample[\"salary\"], color='darkblue', alpha=0.1)\n",
    "plt.title('POPULATION - Major League Baseball players’ salaries')\n",
    "plt.xlabel('POPULATION - Salary (millions of dollars)')"
   ]
  },
  {
   "cell_type": "code",
   "execution_count": 97,
   "id": "applied-blake",
   "metadata": {},
   "outputs": [],
   "source": [
    "# Define systematic sampling function\n",
    "def sys_samp(df, step,start=0):\n",
    "    systematic_sample=df.iloc[start::step]\n",
    "    return systematic_sample"
   ]
  },
  {
   "cell_type": "code",
   "execution_count": 98,
   "id": "starting-arrest",
   "metadata": {},
   "outputs": [
    {
     "data": {
      "text/html": [
       "<div>\n",
       "<style scoped>\n",
       "    .dataframe tbody tr th:only-of-type {\n",
       "        vertical-align: middle;\n",
       "    }\n",
       "\n",
       "    .dataframe tbody tr th {\n",
       "        vertical-align: top;\n",
       "    }\n",
       "\n",
       "    .dataframe thead th {\n",
       "        text-align: right;\n",
       "    }\n",
       "</style>\n",
       "<table border=\"1\" class=\"dataframe\">\n",
       "  <thead>\n",
       "    <tr style=\"text-align: right;\">\n",
       "      <th></th>\n",
       "      <th>player</th>\n",
       "      <th>team</th>\n",
       "      <th>position</th>\n",
       "      <th>salary</th>\n",
       "    </tr>\n",
       "  </thead>\n",
       "  <tbody>\n",
       "    <tr>\n",
       "      <th>3</th>\n",
       "      <td>Edwin Jackson</td>\n",
       "      <td>Arizona Diamondbacks</td>\n",
       "      <td>Pitcher</td>\n",
       "      <td>4600.000</td>\n",
       "    </tr>\n",
       "    <tr>\n",
       "      <th>8</th>\n",
       "      <td>Conor Jackson</td>\n",
       "      <td>Arizona Diamondbacks</td>\n",
       "      <td>First Baseman</td>\n",
       "      <td>3100.000</td>\n",
       "    </tr>\n",
       "    <tr>\n",
       "      <th>13</th>\n",
       "      <td>Mark Reynolds</td>\n",
       "      <td>Arizona Diamondbacks</td>\n",
       "      <td>Third Baseman</td>\n",
       "      <td>833.333</td>\n",
       "    </tr>\n",
       "    <tr>\n",
       "      <th>18</th>\n",
       "      <td>Juan C. Gutierrez</td>\n",
       "      <td>Arizona Diamondbacks</td>\n",
       "      <td>Pitcher</td>\n",
       "      <td>411.000</td>\n",
       "    </tr>\n",
       "    <tr>\n",
       "      <th>23</th>\n",
       "      <td>Ian Kennedy</td>\n",
       "      <td>Arizona Diamondbacks</td>\n",
       "      <td>Pitcher</td>\n",
       "      <td>403.000</td>\n",
       "    </tr>\n",
       "    <tr>\n",
       "      <th>...</th>\n",
       "      <td>...</td>\n",
       "      <td>...</td>\n",
       "      <td>...</td>\n",
       "      <td>...</td>\n",
       "    </tr>\n",
       "    <tr>\n",
       "      <th>803</th>\n",
       "      <td>Matt Capps</td>\n",
       "      <td>Washington Nationals</td>\n",
       "      <td>Pitcher</td>\n",
       "      <td>3500.000</td>\n",
       "    </tr>\n",
       "    <tr>\n",
       "      <th>808</th>\n",
       "      <td>Adam Kennedy</td>\n",
       "      <td>Washington Nationals</td>\n",
       "      <td>Second Baseman</td>\n",
       "      <td>1250.000</td>\n",
       "    </tr>\n",
       "    <tr>\n",
       "      <th>813</th>\n",
       "      <td>Wil Nieves</td>\n",
       "      <td>Washington Nationals</td>\n",
       "      <td>Catcher</td>\n",
       "      <td>700.000</td>\n",
       "    </tr>\n",
       "    <tr>\n",
       "      <th>818</th>\n",
       "      <td>Alberto Gonzalez</td>\n",
       "      <td>Washington Nationals</td>\n",
       "      <td>Shortstop</td>\n",
       "      <td>415.500</td>\n",
       "    </tr>\n",
       "    <tr>\n",
       "      <th>823</th>\n",
       "      <td>Jordan Zimmerman</td>\n",
       "      <td>Washington Nationals</td>\n",
       "      <td>Pitcher</td>\n",
       "      <td>401.000</td>\n",
       "    </tr>\n",
       "  </tbody>\n",
       "</table>\n",
       "<p>165 rows × 4 columns</p>\n",
       "</div>"
      ],
      "text/plain": [
       "                player                  team        position    salary\n",
       "3        Edwin Jackson  Arizona Diamondbacks         Pitcher  4600.000\n",
       "8        Conor Jackson  Arizona Diamondbacks   First Baseman  3100.000\n",
       "13       Mark Reynolds  Arizona Diamondbacks   Third Baseman   833.333\n",
       "18   Juan C. Gutierrez  Arizona Diamondbacks         Pitcher   411.000\n",
       "23         Ian Kennedy  Arizona Diamondbacks         Pitcher   403.000\n",
       "..                 ...                   ...             ...       ...\n",
       "803         Matt Capps  Washington Nationals         Pitcher  3500.000\n",
       "808       Adam Kennedy  Washington Nationals  Second Baseman  1250.000\n",
       "813         Wil Nieves  Washington Nationals         Catcher   700.000\n",
       "818   Alberto Gonzalez  Washington Nationals       Shortstop   415.500\n",
       "823   Jordan Zimmerman  Washington Nationals         Pitcher   401.000\n",
       "\n",
       "[165 rows x 4 columns]"
      ]
     },
     "execution_count": 98,
     "metadata": {},
     "output_type": "execute_result"
    }
   ],
   "source": [
    "systematic_sampling=sys_samp(df,5,3)\n",
    "systematic_sampling"
   ]
  },
  {
   "cell_type": "code",
   "execution_count": 99,
   "id": "close-respect",
   "metadata": {},
   "outputs": [
    {
     "data": {
      "text/html": [
       "<div>\n",
       "<style scoped>\n",
       "    .dataframe tbody tr th:only-of-type {\n",
       "        vertical-align: middle;\n",
       "    }\n",
       "\n",
       "    .dataframe tbody tr th {\n",
       "        vertical-align: top;\n",
       "    }\n",
       "\n",
       "    .dataframe thead th {\n",
       "        text-align: right;\n",
       "    }\n",
       "</style>\n",
       "<table border=\"1\" class=\"dataframe\">\n",
       "  <thead>\n",
       "    <tr style=\"text-align: right;\">\n",
       "      <th></th>\n",
       "      <th>player</th>\n",
       "      <th>team</th>\n",
       "      <th>position</th>\n",
       "      <th>salary</th>\n",
       "    </tr>\n",
       "  </thead>\n",
       "  <tbody>\n",
       "    <tr>\n",
       "      <th>0</th>\n",
       "      <td>Brandon Webb</td>\n",
       "      <td>Arizona Diamondbacks</td>\n",
       "      <td>Pitcher</td>\n",
       "      <td>8500.0</td>\n",
       "    </tr>\n",
       "    <tr>\n",
       "      <th>7</th>\n",
       "      <td>Stephen Drew</td>\n",
       "      <td>Arizona Diamondbacks</td>\n",
       "      <td>Shortstop</td>\n",
       "      <td>3400.0</td>\n",
       "    </tr>\n",
       "    <tr>\n",
       "      <th>14</th>\n",
       "      <td>Augie Ojeda</td>\n",
       "      <td>Arizona Diamondbacks</td>\n",
       "      <td>Shortstop</td>\n",
       "      <td>825.0</td>\n",
       "    </tr>\n",
       "    <tr>\n",
       "      <th>21</th>\n",
       "      <td>Gerardo Parra</td>\n",
       "      <td>Arizona Diamondbacks</td>\n",
       "      <td>Outfielder</td>\n",
       "      <td>405.5</td>\n",
       "    </tr>\n",
       "    <tr>\n",
       "      <th>28</th>\n",
       "      <td>Tim Hudson</td>\n",
       "      <td>Atlanta Braves</td>\n",
       "      <td>Pitcher</td>\n",
       "      <td>9000.0</td>\n",
       "    </tr>\n",
       "    <tr>\n",
       "      <th>...</th>\n",
       "      <td>...</td>\n",
       "      <td>...</td>\n",
       "      <td>...</td>\n",
       "      <td>...</td>\n",
       "    </tr>\n",
       "    <tr>\n",
       "      <th>798</th>\n",
       "      <td>Adam Dunn</td>\n",
       "      <td>Washington Nationals</td>\n",
       "      <td>First Baseman</td>\n",
       "      <td>12000.0</td>\n",
       "    </tr>\n",
       "    <tr>\n",
       "      <th>805</th>\n",
       "      <td>Chien-Ming Wang</td>\n",
       "      <td>Washington Nationals</td>\n",
       "      <td>Pitcher</td>\n",
       "      <td>2000.0</td>\n",
       "    </tr>\n",
       "    <tr>\n",
       "      <th>812</th>\n",
       "      <td>Jesus Flores</td>\n",
       "      <td>Washington Nationals</td>\n",
       "      <td>Catcher</td>\n",
       "      <td>750.0</td>\n",
       "    </tr>\n",
       "    <tr>\n",
       "      <th>819</th>\n",
       "      <td>Garrett Mock</td>\n",
       "      <td>Washington Nationals</td>\n",
       "      <td>Pitcher</td>\n",
       "      <td>411.0</td>\n",
       "    </tr>\n",
       "    <tr>\n",
       "      <th>826</th>\n",
       "      <td>Jesse English</td>\n",
       "      <td>Washington Nationals</td>\n",
       "      <td>Pitcher</td>\n",
       "      <td>400.0</td>\n",
       "    </tr>\n",
       "  </tbody>\n",
       "</table>\n",
       "<p>119 rows × 4 columns</p>\n",
       "</div>"
      ],
      "text/plain": [
       "              player                  team       position   salary\n",
       "0       Brandon Webb  Arizona Diamondbacks        Pitcher   8500.0\n",
       "7       Stephen Drew  Arizona Diamondbacks      Shortstop   3400.0\n",
       "14       Augie Ojeda  Arizona Diamondbacks      Shortstop    825.0\n",
       "21     Gerardo Parra  Arizona Diamondbacks     Outfielder    405.5\n",
       "28        Tim Hudson        Atlanta Braves        Pitcher   9000.0\n",
       "..               ...                   ...            ...      ...\n",
       "798        Adam Dunn  Washington Nationals  First Baseman  12000.0\n",
       "805  Chien-Ming Wang  Washington Nationals        Pitcher   2000.0\n",
       "812     Jesus Flores  Washington Nationals        Catcher    750.0\n",
       "819     Garrett Mock  Washington Nationals        Pitcher    411.0\n",
       "826    Jesse English  Washington Nationals        Pitcher    400.0\n",
       "\n",
       "[119 rows x 4 columns]"
      ]
     },
     "execution_count": 99,
     "metadata": {},
     "output_type": "execute_result"
    }
   ],
   "source": [
    "systematic_sampling2=sys_samp(df,7)\n",
    "systematic_sampling2"
   ]
  },
  {
   "cell_type": "code",
   "execution_count": 104,
   "id": "indonesian-representation",
   "metadata": {},
   "outputs": [
    {
     "data": {
      "text/plain": [
       "Text(0.5, 0, 'SAMPLE - Salary (millions of dollars)')"
      ]
     },
     "execution_count": 104,
     "metadata": {},
     "output_type": "execute_result"
    },
    {
     "data": {
      "image/png": "[encoded data removed]",
      "text/plain": [
       "<Figure size 432x288 with 1 Axes>"
      ]
     },
     "metadata": {},
     "output_type": "display_data"
    }
   ],
   "source": [
    "systematic_sampling.hist(['salary'], bins=20)\n",
    "plt.title('SAMPLE - MLB players’ salaries -systematic sampling k=75')\n",
    "plt.ylabel('Frequency')\n",
    "plt.xlabel('SAMPLE - Salary (millions of dollars)')"
   ]
  },
  {
   "cell_type": "code",
   "execution_count": 101,
   "id": "hundred-scale",
   "metadata": {},
   "outputs": [
    {
     "data": {
      "text/plain": [
       "(165, 4)"
      ]
     },
     "execution_count": 101,
     "metadata": {},
     "output_type": "execute_result"
    }
   ],
   "source": [
    "systematic_sampling.shape"
   ]
  },
  {
   "cell_type": "code",
   "execution_count": 78,
   "id": "gorgeous-disney",
   "metadata": {},
   "outputs": [
    {
     "data": {
      "text/plain": [
       "Text(0.5, 0, 'POPULATION - Salary (millions of dollars)')"
      ]
     },
     "execution_count": 78,
     "metadata": {},
     "output_type": "execute_result"
    },
    {
     "data": {
      "image/png": "[encoded data removed]",
      "text/plain": [
       "<Figure size 432x288 with 1 Axes>"
      ]
     },
     "metadata": {},
     "output_type": "display_data"
    }
   ],
   "source": [
    "sns.set(style=\"whitegrid\")\n",
    "ax = sns.boxplot(x=systematic_sampling[\"salary\"], color='lightblue', fliersize=5, linewidth=1 , width=0.3)\n",
    "ax = sns.stripplot(x=systematic_sampling[\"salary\"], color='darkblue', alpha=0.1)\n",
    "plt.title('POPULATION - Major League Baseball players’ salaries')\n",
    "plt.xlabel('POPULATION - Salary (millions of dollars)')"
   ]
  },
  {
   "cell_type": "markdown",
   "id": "discrete-providence",
   "metadata": {},
   "source": [
    "- Exercici 2\n",
    "\n",
    "Continua amb el conjunt de dades de tema esportiu i genera una mostra estratificada i una mostra utilitzant SMOTE (Synthetic Minority Oversampling Technique)."
   ]
  },
  {
   "cell_type": "code",
   "execution_count": 79,
   "id": "dried-norman",
   "metadata": {},
   "outputs": [],
   "source": [
    "from sklearn.model_selection import train_test_split"
   ]
  },
  {
   "cell_type": "code",
   "execution_count": 81,
   "id": "preliminary-selection",
   "metadata": {},
   "outputs": [
    {
     "data": {
      "text/html": [
       "<div>\n",
       "<style scoped>\n",
       "    .dataframe tbody tr th:only-of-type {\n",
       "        vertical-align: middle;\n",
       "    }\n",
       "\n",
       "    .dataframe tbody tr th {\n",
       "        vertical-align: top;\n",
       "    }\n",
       "\n",
       "    .dataframe thead th {\n",
       "        text-align: right;\n",
       "    }\n",
       "</style>\n",
       "<table border=\"1\" class=\"dataframe\">\n",
       "  <thead>\n",
       "    <tr style=\"text-align: right;\">\n",
       "      <th></th>\n",
       "      <th></th>\n",
       "      <th>player</th>\n",
       "      <th>team</th>\n",
       "      <th>position</th>\n",
       "      <th>salary</th>\n",
       "    </tr>\n",
       "    <tr>\n",
       "      <th>position</th>\n",
       "      <th></th>\n",
       "      <th></th>\n",
       "      <th></th>\n",
       "      <th></th>\n",
       "      <th></th>\n",
       "    </tr>\n",
       "  </thead>\n",
       "  <tbody>\n",
       "    <tr>\n",
       "      <th rowspan=\"5\" valign=\"top\">Catcher</th>\n",
       "      <th>598</th>\n",
       "      <td>Jason Jaramillo</td>\n",
       "      <td>Pittsburgh Pirates</td>\n",
       "      <td>Catcher</td>\n",
       "      <td>416.5</td>\n",
       "    </tr>\n",
       "    <tr>\n",
       "      <th>814</th>\n",
       "      <td>Chris Coste</td>\n",
       "      <td>Washington Nationals</td>\n",
       "      <td>Catcher</td>\n",
       "      <td>650.0</td>\n",
       "    </tr>\n",
       "    <tr>\n",
       "      <th>601</th>\n",
       "      <td>Jeff Clement</td>\n",
       "      <td>Pittsburgh Pirates</td>\n",
       "      <td>Catcher</td>\n",
       "      <td>405.0</td>\n",
       "    </tr>\n",
       "    <tr>\n",
       "      <th>776</th>\n",
       "      <td>John Buck</td>\n",
       "      <td>Toronto Blue Jays</td>\n",
       "      <td>Catcher</td>\n",
       "      <td>2000.0</td>\n",
       "    </tr>\n",
       "    <tr>\n",
       "      <th>486</th>\n",
       "      <td>Henry Blanco</td>\n",
       "      <td>New York Mets</td>\n",
       "      <td>Catcher</td>\n",
       "      <td>750.0</td>\n",
       "    </tr>\n",
       "  </tbody>\n",
       "</table>\n",
       "</div>"
      ],
      "text/plain": [
       "                       player                  team position  salary\n",
       "position                                                            \n",
       "Catcher  598  Jason Jaramillo    Pittsburgh Pirates  Catcher   416.5\n",
       "         814      Chris Coste  Washington Nationals  Catcher   650.0\n",
       "         601     Jeff Clement    Pittsburgh Pirates  Catcher   405.0\n",
       "         776        John Buck     Toronto Blue Jays  Catcher  2000.0\n",
       "         486     Henry Blanco         New York Mets  Catcher   750.0"
      ]
     },
     "execution_count": 81,
     "metadata": {},
     "output_type": "execute_result"
    }
   ],
   "source": [
    "MLBStratified = df.groupby('position', group_keys = True).apply(pd.DataFrame.sample, frac=.145)\n",
    "MLBStratified.head()"
   ]
  },
  {
   "cell_type": "code",
   "execution_count": 84,
   "id": "cooked-width",
   "metadata": {},
   "outputs": [
    {
     "data": {
      "text/html": [
       "<div>\n",
       "<style scoped>\n",
       "    .dataframe tbody tr th:only-of-type {\n",
       "        vertical-align: middle;\n",
       "    }\n",
       "\n",
       "    .dataframe tbody tr th {\n",
       "        vertical-align: top;\n",
       "    }\n",
       "\n",
       "    .dataframe thead th {\n",
       "        text-align: right;\n",
       "    }\n",
       "</style>\n",
       "<table border=\"1\" class=\"dataframe\">\n",
       "  <thead>\n",
       "    <tr style=\"text-align: right;\">\n",
       "      <th></th>\n",
       "      <th>salary</th>\n",
       "    </tr>\n",
       "  </thead>\n",
       "  <tbody>\n",
       "    <tr>\n",
       "      <th>count</th>\n",
       "      <td>120.000000</td>\n",
       "    </tr>\n",
       "    <tr>\n",
       "      <th>mean</th>\n",
       "      <td>3163.323608</td>\n",
       "    </tr>\n",
       "    <tr>\n",
       "      <th>std</th>\n",
       "      <td>4098.890172</td>\n",
       "    </tr>\n",
       "    <tr>\n",
       "      <th>min</th>\n",
       "      <td>400.000000</td>\n",
       "    </tr>\n",
       "    <tr>\n",
       "      <th>25%</th>\n",
       "      <td>426.237500</td>\n",
       "    </tr>\n",
       "    <tr>\n",
       "      <th>50%</th>\n",
       "      <td>1200.000000</td>\n",
       "    </tr>\n",
       "    <tr>\n",
       "      <th>75%</th>\n",
       "      <td>4000.000000</td>\n",
       "    </tr>\n",
       "    <tr>\n",
       "      <th>max</th>\n",
       "      <td>20000.000000</td>\n",
       "    </tr>\n",
       "  </tbody>\n",
       "</table>\n",
       "</div>"
      ],
      "text/plain": [
       "             salary\n",
       "count    120.000000\n",
       "mean    3163.323608\n",
       "std     4098.890172\n",
       "min      400.000000\n",
       "25%      426.237500\n",
       "50%     1200.000000\n",
       "75%     4000.000000\n",
       "max    20000.000000"
      ]
     },
     "execution_count": 84,
     "metadata": {},
     "output_type": "execute_result"
    }
   ],
   "source": [
    "MLBStratified.describe()"
   ]
  },
  {
   "cell_type": "code",
   "execution_count": 82,
   "id": "victorian-heavy",
   "metadata": {},
   "outputs": [
    {
     "data": {
      "text/html": [
       "<div>\n",
       "<style scoped>\n",
       "    .dataframe tbody tr th:only-of-type {\n",
       "        vertical-align: middle;\n",
       "    }\n",
       "\n",
       "    .dataframe tbody tr th {\n",
       "        vertical-align: top;\n",
       "    }\n",
       "\n",
       "    .dataframe thead th {\n",
       "        text-align: right;\n",
       "    }\n",
       "</style>\n",
       "<table border=\"1\" class=\"dataframe\">\n",
       "  <thead>\n",
       "    <tr style=\"text-align: right;\">\n",
       "      <th></th>\n",
       "      <th></th>\n",
       "      <th>player</th>\n",
       "      <th>team</th>\n",
       "      <th>position</th>\n",
       "      <th>salary</th>\n",
       "    </tr>\n",
       "    <tr>\n",
       "      <th>salary</th>\n",
       "      <th></th>\n",
       "      <th></th>\n",
       "      <th></th>\n",
       "      <th></th>\n",
       "      <th></th>\n",
       "    </tr>\n",
       "  </thead>\n",
       "  <tbody>\n",
       "    <tr>\n",
       "      <th rowspan=\"5\" valign=\"top\">400.0</th>\n",
       "      <th>464</th>\n",
       "      <td>Alex Burnett</td>\n",
       "      <td>Minnesota Twins</td>\n",
       "      <td>Pitcher</td>\n",
       "      <td>400.0</td>\n",
       "    </tr>\n",
       "    <tr>\n",
       "      <th>77</th>\n",
       "      <td>Craig Tatum</td>\n",
       "      <td>Baltimore Orioles</td>\n",
       "      <td>Catcher</td>\n",
       "      <td>400.0</td>\n",
       "    </tr>\n",
       "    <tr>\n",
       "      <th>270</th>\n",
       "      <td>Scott Sizemore</td>\n",
       "      <td>Detroit Tigers</td>\n",
       "      <td>Second Baseman</td>\n",
       "      <td>400.0</td>\n",
       "    </tr>\n",
       "    <tr>\n",
       "      <th>184</th>\n",
       "      <td>Juan Francisco</td>\n",
       "      <td>Cincinnati Reds</td>\n",
       "      <td>Third Baseman</td>\n",
       "      <td>400.0</td>\n",
       "    </tr>\n",
       "    <tr>\n",
       "      <th>710</th>\n",
       "      <td>Joe Mather</td>\n",
       "      <td>St. Louis Cardinals</td>\n",
       "      <td>Pitcher</td>\n",
       "      <td>400.0</td>\n",
       "    </tr>\n",
       "  </tbody>\n",
       "</table>\n",
       "</div>"
      ],
      "text/plain": [
       "                    player                 team        position  salary\n",
       "salary                                                                 \n",
       "400.0  464    Alex Burnett      Minnesota Twins         Pitcher   400.0\n",
       "       77      Craig Tatum    Baltimore Orioles         Catcher   400.0\n",
       "       270  Scott Sizemore       Detroit Tigers  Second Baseman   400.0\n",
       "       184  Juan Francisco      Cincinnati Reds   Third Baseman   400.0\n",
       "       710      Joe Mather  St. Louis Cardinals         Pitcher   400.0"
      ]
     },
     "execution_count": 82,
     "metadata": {},
     "output_type": "execute_result"
    }
   ],
   "source": [
    "MLBStratified2 = df.groupby('salary', group_keys = True).apply(pd.DataFrame.sample, frac=.145)\n",
    "MLBStratified2.head()"
   ]
  },
  {
   "cell_type": "code",
   "execution_count": 85,
   "id": "unnecessary-particular",
   "metadata": {
    "scrolled": true
   },
   "outputs": [
    {
     "data": {
      "text/html": [
       "<div>\n",
       "<style scoped>\n",
       "    .dataframe tbody tr th:only-of-type {\n",
       "        vertical-align: middle;\n",
       "    }\n",
       "\n",
       "    .dataframe tbody tr th {\n",
       "        vertical-align: top;\n",
       "    }\n",
       "\n",
       "    .dataframe thead th {\n",
       "        text-align: right;\n",
       "    }\n",
       "</style>\n",
       "<table border=\"1\" class=\"dataframe\">\n",
       "  <thead>\n",
       "    <tr style=\"text-align: right;\">\n",
       "      <th></th>\n",
       "      <th>salary</th>\n",
       "    </tr>\n",
       "  </thead>\n",
       "  <tbody>\n",
       "    <tr>\n",
       "      <th>count</th>\n",
       "      <td>68.000000</td>\n",
       "    </tr>\n",
       "    <tr>\n",
       "      <th>mean</th>\n",
       "      <td>2555.301471</td>\n",
       "    </tr>\n",
       "    <tr>\n",
       "      <th>std</th>\n",
       "      <td>3520.813514</td>\n",
       "    </tr>\n",
       "    <tr>\n",
       "      <th>min</th>\n",
       "      <td>400.000000</td>\n",
       "    </tr>\n",
       "    <tr>\n",
       "      <th>25%</th>\n",
       "      <td>412.125000</td>\n",
       "    </tr>\n",
       "    <tr>\n",
       "      <th>50%</th>\n",
       "      <td>925.000000</td>\n",
       "    </tr>\n",
       "    <tr>\n",
       "      <th>75%</th>\n",
       "      <td>3137.500000</td>\n",
       "    </tr>\n",
       "    <tr>\n",
       "      <th>max</th>\n",
       "      <td>15000.000000</td>\n",
       "    </tr>\n",
       "  </tbody>\n",
       "</table>\n",
       "</div>"
      ],
      "text/plain": [
       "             salary\n",
       "count     68.000000\n",
       "mean    2555.301471\n",
       "std     3520.813514\n",
       "min      400.000000\n",
       "25%      412.125000\n",
       "50%      925.000000\n",
       "75%     3137.500000\n",
       "max    15000.000000"
      ]
     },
     "execution_count": 85,
     "metadata": {},
     "output_type": "execute_result"
    }
   ],
   "source": [
    "MLBStratified2.describe()"
   ]
  },
  {
   "cell_type": "markdown",
   "id": "indirect-racing",
   "metadata": {},
   "source": [
    "Generate sample using SMOTE (Synthetic Minority Oversampling Technique)."
   ]
  },
  {
   "cell_type": "code",
   "execution_count": 88,
   "id": "based-image",
   "metadata": {},
   "outputs": [
    {
     "name": "stdout",
     "output_type": "stream",
     "text": [
      "Original dataset shape Counter({1: 90, 0: 10})\n"
     ]
    },
    {
     "data": {
      "text/plain": [
       "<matplotlib.legend.Legend at 0x1f39279f4f0>"
      ]
     },
     "execution_count": 88,
     "metadata": {},
     "output_type": "execute_result"
    },
    {
     "data": {
      "image/png": "[encoded data removed]",
      "text/plain": [
       "<Figure size 720x432 with 1 Axes>"
      ]
     },
     "metadata": {
      "needs_background": "light"
     },
     "output_type": "display_data"
    }
   ],
   "source": [
    "from collections import Counter\n",
    "from sklearn.datasets import make_classification\n",
    "from imblearn.over_sampling import SMOTE\n",
    "import numpy as np\n",
    "import matplotlib.pyplot as plt\n",
    "X, y = make_classification(n_classes=2, class_sep=1, weights=[0.1, 0.9], n_informative=2, n_redundant=0,\n",
    "                           flip_y=0, n_features=2, n_clusters_per_class=1, n_samples=100, random_state=10)\n",
    "\n",
    "print('Original dataset shape %s' % Counter(y))\n",
    "# Original dataset shape Counter({1: 90, 0: 10})\n",
    "\n",
    "label_c = {0: 'red', 1: 'green'}\n",
    "\n",
    "plt.figure(figsize=[10, 6])\n",
    "for label in np.unique(y):\n",
    "    ind = np.where(y == label)\n",
    "    plt.scatter(X[ind][:, 0], X[ind][:, 1], c=label_c[label], label=label)\n",
    "plt.legend()"
   ]
  },
  {
   "cell_type": "code",
   "execution_count": 89,
   "id": "simple-mechanism",
   "metadata": {},
   "outputs": [
    {
     "name": "stdout",
     "output_type": "stream",
     "text": [
      "Resampled dataset shape Counter({1: 90, 0: 90})\n"
     ]
    }
   ],
   "source": [
    "m = SMOTE(k_neighbors=3, sampling_strategy=0.2, random_state=11)\n",
    "X_res, y_res = sm.fit_resample(X, y)\n",
    "\n",
    "print('Resampled dataset shape %s' % Counter(y_res))"
   ]
  },
  {
   "cell_type": "code",
   "execution_count": 90,
   "id": "absolute-sweden",
   "metadata": {},
   "outputs": [
    {
     "name": "stdout",
     "output_type": "stream",
     "text": [
      "[(0, 10), (1, 90)]\n"
     ]
    }
   ],
   "source": [
    "print(sorted(Counter(y).items()))"
   ]
  },
  {
   "cell_type": "code",
   "execution_count": 91,
   "id": "potential-reaction",
   "metadata": {},
   "outputs": [
    {
     "name": "stdout",
     "output_type": "stream",
     "text": [
      "[(0, 90), (1, 90)]\n"
     ]
    }
   ],
   "source": [
    "print(sorted(Counter(y_res).items()))"
   ]
  },
  {
   "cell_type": "code",
   "execution_count": 92,
   "id": "better-medicare",
   "metadata": {},
   "outputs": [
    {
     "data": {
      "text/plain": [
       "<matplotlib.legend.Legend at 0x1f392808c40>"
      ]
     },
     "execution_count": 92,
     "metadata": {},
     "output_type": "execute_result"
    },
    {
     "data": {
      "image/png": "[encoded data removed]",
      "text/plain": [
       "<Figure size 720x432 with 1 Axes>"
      ]
     },
     "metadata": {
      "needs_background": "light"
     },
     "output_type": "display_data"
    }
   ],
   "source": [
    "label_c = {0: 'red', 1: 'green'}\n",
    "\n",
    "plt.figure(figsize=[10, 6])\n",
    "for label in np.unique(y_res):\n",
    "    ind = np.where(y_res == label)\n",
    "    if label == 0:\n",
    "        plt.scatter(X_res[ind][-8:, 0], X_res[ind][-8:, 1], c='orange', label='0_new')\n",
    "        plt.scatter(X_res[ind][:-8, 0], X_res[ind][:-8, 1], c=label_c[label], label=label)\n",
    "    else:\n",
    "        plt.scatter(X_res[ind][:, 0], X_res[ind][:, 1], c=label_c[label], label=label)\n",
    "plt.legend()"
   ]
  },
  {
   "cell_type": "markdown",
   "id": "middle-miami",
   "metadata": {},
   "source": [
    "- Exercici 3\n",
    "\n",
    "Continua amb el conjunt de dades de tema esportiu i genera una mostra utilitzant el mètode Reservoir sampling."
   ]
  },
  {
   "cell_type": "code",
   "execution_count": 23,
   "id": "premium-pledge",
   "metadata": {},
   "outputs": [],
   "source": [
    "def Reservoir_Sampling(steam,k):\n",
    "    reservoir = []\n",
    "    for i, element in enumerate(df.index.tolist()):\n",
    "        if i+1<= k:\n",
    "            reservoir.append(element)\n",
    "        else:\n",
    "            probability = k/(i+1)\n",
    "            if random.random() < probability:\n",
    "                # Select item in stream and remove one of the k items already selected\n",
    "                 reservoir[random.choice(range(0,k))] = element\n",
    "    return df.iloc[reservoir]"
   ]
  },
  {
   "cell_type": "code",
   "execution_count": 93,
   "id": "interesting-preliminary",
   "metadata": {},
   "outputs": [
    {
     "data": {
      "text/html": [
       "<div>\n",
       "<style scoped>\n",
       "    .dataframe tbody tr th:only-of-type {\n",
       "        vertical-align: middle;\n",
       "    }\n",
       "\n",
       "    .dataframe tbody tr th {\n",
       "        vertical-align: top;\n",
       "    }\n",
       "\n",
       "    .dataframe thead th {\n",
       "        text-align: right;\n",
       "    }\n",
       "</style>\n",
       "<table border=\"1\" class=\"dataframe\">\n",
       "  <thead>\n",
       "    <tr style=\"text-align: right;\">\n",
       "      <th></th>\n",
       "      <th>player</th>\n",
       "      <th>team</th>\n",
       "      <th>position</th>\n",
       "      <th>salary</th>\n",
       "    </tr>\n",
       "  </thead>\n",
       "  <tbody>\n",
       "    <tr>\n",
       "      <th>748</th>\n",
       "      <td>Colby Lewis</td>\n",
       "      <td>Texas Rangers</td>\n",
       "      <td>Pitcher</td>\n",
       "      <td>1750.0</td>\n",
       "    </tr>\n",
       "    <tr>\n",
       "      <th>647</th>\n",
       "      <td>Pablo Sandoval</td>\n",
       "      <td>San Francisco Giants</td>\n",
       "      <td>Third Baseman</td>\n",
       "      <td>465.0</td>\n",
       "    </tr>\n",
       "    <tr>\n",
       "      <th>484</th>\n",
       "      <td>Mike Jacobs</td>\n",
       "      <td>New York Mets</td>\n",
       "      <td>First Baseman</td>\n",
       "      <td>900.0</td>\n",
       "    </tr>\n",
       "    <tr>\n",
       "      <th>76</th>\n",
       "      <td>Nolan Reimold</td>\n",
       "      <td>Baltimore Orioles</td>\n",
       "      <td>Outfielder</td>\n",
       "      <td>400.0</td>\n",
       "    </tr>\n",
       "    <tr>\n",
       "      <th>393</th>\n",
       "      <td>James Loney</td>\n",
       "      <td>Los Angeles Dodgers</td>\n",
       "      <td>First Baseman</td>\n",
       "      <td>3100.0</td>\n",
       "    </tr>\n",
       "  </tbody>\n",
       "</table>\n",
       "</div>"
      ],
      "text/plain": [
       "             player                  team       position  salary\n",
       "748     Colby Lewis         Texas Rangers        Pitcher  1750.0\n",
       "647  Pablo Sandoval  San Francisco Giants  Third Baseman   465.0\n",
       "484     Mike Jacobs         New York Mets  First Baseman   900.0\n",
       "76    Nolan Reimold     Baltimore Orioles     Outfielder   400.0\n",
       "393     James Loney   Los Angeles Dodgers  First Baseman  3100.0"
      ]
     },
     "execution_count": 93,
     "metadata": {},
     "output_type": "execute_result"
    }
   ],
   "source": [
    "dfs=Reservoir_Sampling(df,5)\n",
    "dfs"
   ]
  },
  {
   "cell_type": "code",
   "execution_count": 95,
   "id": "august-customs",
   "metadata": {},
   "outputs": [
    {
     "data": {
      "text/html": [
       "<div>\n",
       "<style scoped>\n",
       "    .dataframe tbody tr th:only-of-type {\n",
       "        vertical-align: middle;\n",
       "    }\n",
       "\n",
       "    .dataframe tbody tr th {\n",
       "        vertical-align: top;\n",
       "    }\n",
       "\n",
       "    .dataframe thead th {\n",
       "        text-align: right;\n",
       "    }\n",
       "</style>\n",
       "<table border=\"1\" class=\"dataframe\">\n",
       "  <thead>\n",
       "    <tr style=\"text-align: right;\">\n",
       "      <th></th>\n",
       "      <th>player</th>\n",
       "      <th>team</th>\n",
       "      <th>position</th>\n",
       "      <th>salary</th>\n",
       "    </tr>\n",
       "  </thead>\n",
       "  <tbody>\n",
       "    <tr>\n",
       "      <th>494</th>\n",
       "      <td>Alex Rodriguez</td>\n",
       "      <td>New York Yankees</td>\n",
       "      <td>Third Baseman</td>\n",
       "      <td>33000.00</td>\n",
       "    </tr>\n",
       "    <tr>\n",
       "      <th>388</th>\n",
       "      <td>Vicente Padilla</td>\n",
       "      <td>Los Angeles Dodgers</td>\n",
       "      <td>Pitcher</td>\n",
       "      <td>5025.00</td>\n",
       "    </tr>\n",
       "    <tr>\n",
       "      <th>526</th>\n",
       "      <td>Rajai Davis</td>\n",
       "      <td>Oakland Athletics</td>\n",
       "      <td>Outfielder</td>\n",
       "      <td>1350.00</td>\n",
       "    </tr>\n",
       "    <tr>\n",
       "      <th>560</th>\n",
       "      <td>Shane Victorino</td>\n",
       "      <td>Philadelphia Phillies</td>\n",
       "      <td>Outfielder</td>\n",
       "      <td>5000.00</td>\n",
       "    </tr>\n",
       "    <tr>\n",
       "      <th>779</th>\n",
       "      <td>John McDonald</td>\n",
       "      <td>Toronto Blue Jays</td>\n",
       "      <td>Shortstop</td>\n",
       "      <td>1500.00</td>\n",
       "    </tr>\n",
       "    <tr>\n",
       "      <th>...</th>\n",
       "      <td>...</td>\n",
       "      <td>...</td>\n",
       "      <td>...</td>\n",
       "      <td>...</td>\n",
       "    </tr>\n",
       "    <tr>\n",
       "      <th>269</th>\n",
       "      <td>Austin Jackson</td>\n",
       "      <td>Detroit Tigers</td>\n",
       "      <td>Outfielder</td>\n",
       "      <td>400.00</td>\n",
       "    </tr>\n",
       "    <tr>\n",
       "      <th>566</th>\n",
       "      <td>Carlos Ruiz</td>\n",
       "      <td>Philadelphia Phillies</td>\n",
       "      <td>Catcher</td>\n",
       "      <td>1900.00</td>\n",
       "    </tr>\n",
       "    <tr>\n",
       "      <th>127</th>\n",
       "      <td>Tom Gorzelanny</td>\n",
       "      <td>Chicago Cubs</td>\n",
       "      <td>Pitcher</td>\n",
       "      <td>800.00</td>\n",
       "    </tr>\n",
       "    <tr>\n",
       "      <th>760</th>\n",
       "      <td>Tommy Hunter</td>\n",
       "      <td>Texas Rangers</td>\n",
       "      <td>Pitcher</td>\n",
       "      <td>409.85</td>\n",
       "    </tr>\n",
       "    <tr>\n",
       "      <th>438</th>\n",
       "      <td>Justin Morneau</td>\n",
       "      <td>Minnesota Twins</td>\n",
       "      <td>First Baseman</td>\n",
       "      <td>15000.00</td>\n",
       "    </tr>\n",
       "  </tbody>\n",
       "</table>\n",
       "<p>75 rows × 4 columns</p>\n",
       "</div>"
      ],
      "text/plain": [
       "              player                   team       position    salary\n",
       "494   Alex Rodriguez       New York Yankees  Third Baseman  33000.00\n",
       "388  Vicente Padilla    Los Angeles Dodgers        Pitcher   5025.00\n",
       "526      Rajai Davis      Oakland Athletics     Outfielder   1350.00\n",
       "560  Shane Victorino  Philadelphia Phillies     Outfielder   5000.00\n",
       "779    John McDonald      Toronto Blue Jays      Shortstop   1500.00\n",
       "..               ...                    ...            ...       ...\n",
       "269   Austin Jackson         Detroit Tigers     Outfielder    400.00\n",
       "566      Carlos Ruiz  Philadelphia Phillies        Catcher   1900.00\n",
       "127   Tom Gorzelanny           Chicago Cubs        Pitcher    800.00\n",
       "760     Tommy Hunter          Texas Rangers        Pitcher    409.85\n",
       "438   Justin Morneau        Minnesota Twins  First Baseman  15000.00\n",
       "\n",
       "[75 rows x 4 columns]"
      ]
     },
     "execution_count": 95,
     "metadata": {},
     "output_type": "execute_result"
    }
   ],
   "source": [
    "dfs=Reservoir_Sampling(df,75)\n",
    "dfs"
   ]
  },
  {
   "cell_type": "code",
   "execution_count": 102,
   "id": "arctic-monitor",
   "metadata": {},
   "outputs": [
    {
     "data": {
      "text/plain": [
       "Text(0.5, 0, 'SAMPLE - Salary (millions of dollars)')"
      ]
     },
     "execution_count": 102,
     "metadata": {},
     "output_type": "execute_result"
    },
    {
     "data": {
      "image/png": "[encoded data removed]",
      "text/plain": [
       "<Figure size 432x288 with 1 Axes>"
      ]
     },
     "metadata": {
      "needs_background": "light"
     },
     "output_type": "display_data"
    }
   ],
   "source": [
    "dfs.hist(['salary'], bins=20)\n",
    "plt.title('SAMPLE - MLB players’ salaries - Reservoi Sampling k=75')\n",
    "plt.ylabel('Frequency')\n",
    "plt.xlabel('SAMPLE - Salary (millions of dollars)')"
   ]
  },
  {
   "cell_type": "code",
   "execution_count": 103,
   "id": "blocked-armor",
   "metadata": {},
   "outputs": [
    {
     "data": {
      "text/plain": [
       "Text(0.5, 0, 'POPULATION - Salary (millions of dollars)')"
      ]
     },
     "execution_count": 103,
     "metadata": {},
     "output_type": "execute_result"
    },
    {
     "data": {
      "image/png": "[encoded data removed]",
      "text/plain": [
       "<Figure size 432x288 with 1 Axes>"
      ]
     },
     "metadata": {},
     "output_type": "display_data"
    }
   ],
   "source": [
    "sns.set(style=\"whitegrid\")\n",
    "ax = sns.boxplot(x=dfs[\"salary\"], color='lightblue', fliersize=5, linewidth=1 , width=0.3)\n",
    "ax = sns.stripplot(x=dfs[\"salary\"], color='darkblue', alpha=0.1)\n",
    "plt.title('POPULATION - Major League Baseball players’ salaries')\n",
    "plt.xlabel('POPULATION - Salary (millions of dollars)')"
   ]
  },
  {
   "cell_type": "code",
   "execution_count": null,
   "id": "contrary-crystal",
   "metadata": {},
   "outputs": [],
   "source": []
  }
 ],
 "metadata": {
  "kernelspec": {
   "display_name": "Python 3",
   "language": "python",
   "name": "python3"
  },
  "language_info": {
   "codemirror_mode": {
    "name": "ipython",
    "version": 3
   },
   "file_extension": ".py",
   "mimetype": "text/x-python",
   "name": "python",
   "nbconvert_exporter": "python",
   "pygments_lexer": "ipython3",
   "version": "3.8.5"
  }
 },
 "nbformat": 4,
 "nbformat_minor": 5
}
